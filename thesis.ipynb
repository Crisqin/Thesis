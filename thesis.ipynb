{
  "cells": [
    {
      "cell_type": "markdown",
      "metadata": {
        "id": "view-in-github",
        "colab_type": "text"
      },
      "source": [
        "<a href=\"https://colab.research.google.com/github/Crisqin/Thesis/blob/main/thesis.ipynb\" target=\"_parent\"><img src=\"https://colab.research.google.com/assets/colab-badge.svg\" alt=\"Open In Colab\"/></a>"
      ]
    },
    {
      "cell_type": "code",
      "execution_count": 1,
      "metadata": {
        "id": "Sqp6H_2aje3A"
      },
      "outputs": [],
      "source": [
        "import torch\n",
        "import time\n",
        "import torch.nn as nn\n",
        "import numpy as np\n",
        "from torchvision import transforms, datasets, models\n",
        "import torch.nn.functional as F\n",
        "import matplotlib.pyplot as plt\n",
        "from torch.autograd import Variable\n",
        "import torch.optim as optim\n"
      ]
    },
    {
      "cell_type": "markdown",
      "metadata": {
        "id": "7hlDN-dl0B-X"
      },
      "source": [
        "# Train and Valid function\n"
      ]
    },
    {
      "cell_type": "code",
      "execution_count": 17,
      "metadata": {
        "id": "GH2HVnmTjvOh"
      },
      "outputs": [],
      "source": [
        "# define train function\n",
        "def train_and_valid(model, loss_function, optimizer, epochs=30):\n",
        "    device = torch.device(\"cuda:0\" if torch.cuda.is_available() else \"cpu\")\n",
        "    #device = torch.device('cpu')\n",
        "    history = []\n",
        "    best_acc = 0.0\n",
        "    best_epoch = 0\n",
        "\n",
        "    for epoch in range(epochs):\n",
        "        epoch_start = time.time()\n",
        "        print(\"Epoch: {}/{}\".format(epoch + 1, epochs))\n",
        "\n",
        "        model.train()\n",
        "\n",
        "        train_loss = 0.0\n",
        "        train_acc = 0.0\n",
        "        valid_loss = 0.0\n",
        "        valid_acc = 0.0\n",
        "\n",
        "        for i, (inputs, labels) in enumerate(train_loader):\n",
        "            inputs = inputs.to(device)\n",
        "            labels = labels.to(device)\n",
        "\n",
        "            \n",
        "            optimizer.zero_grad()\n",
        "\n",
        "            outputs = model(inputs)\n",
        "\n",
        "            loss = loss_function(outputs, labels)\n",
        "\n",
        "            loss.backward()\n",
        "\n",
        "            optimizer.step()\n",
        "\n",
        "            train_loss += loss.item() * inputs.size(0)\n",
        "\n",
        "            ret, predictions = torch.max(outputs.data, 1)\n",
        "            correct_counts = predictions.eq(labels.data.view_as(predictions))\n",
        "\n",
        "            acc = torch.mean(correct_counts.type(torch.FloatTensor))\n",
        "\n",
        "            train_acc += acc.item() * inputs.size(0)\n",
        "\n",
        "        with torch.no_grad():\n",
        "            model.eval()\n",
        "\n",
        "            for j, (inputs, labels) in enumerate(valid_loader):\n",
        "                inputs = inputs.to(device)\n",
        "                labels = labels.to(device)\n",
        "\n",
        "                outputs = model(inputs)\n",
        "\n",
        "                loss = loss_function(outputs, labels)\n",
        "\n",
        "                valid_loss += loss.item() * inputs.size(0)\n",
        "\n",
        "                ret, predictions = torch.max(outputs.data, 1)\n",
        "                correct_counts = predictions.eq(labels.data.view_as(predictions))\n",
        "\n",
        "                acc = torch.mean(correct_counts.type(torch.FloatTensor))\n",
        "\n",
        "                valid_acc += acc.item() * inputs.size(0)\n",
        "\n",
        "        #avg_train_loss = train_loss / train_data_size\n",
        "        avg_train_acc = train_acc / train_data_size\n",
        "\n",
        "        #avg_valid_loss = valid_loss / valid_data_size\n",
        "        avg_valid_acc = valid_acc / valid_data_size\n",
        "        # Record the loss value and accuracy for each round\n",
        "        history.append([train_loss, valid_loss, avg_train_acc, avg_valid_acc])\n",
        "        ################learning rate update\n",
        "        #scheduler.step()\n",
        "        ################\n",
        "\n",
        "        if best_acc < avg_valid_acc:\n",
        "            best_acc = avg_valid_acc\n",
        "            best_epoch = epoch + 1\n",
        "            torch.save(model.state_dict(),'params.ckpt')\n",
        "        epoch_end = time.time()\n",
        "        # Print loss values and accuracies for each round, with the best validation set accuracy\n",
        "        print(\n",
        "            \"Epoch: {:03d}, Training: Loss: {:.4f}, Accuracy: {:.4f}%, \\n\\t\\tValidation: Loss: {:.4f}, Accuracy: {:.4f}%, Time: {:.4f}h\".format(\n",
        "                epoch + 1, valid_loss, avg_train_acc * 100, valid_loss, avg_valid_acc * 100,\n",
        "                (epoch_end - epoch_start)/3600\n",
        "            ))\n",
        "        print(\"Best Accuracy for validation : {:.4f} at epoch {:03d}\".format(best_acc, best_epoch))\n",
        "\n",
        "    return history\n"
      ]
    },
    {
      "cell_type": "markdown",
      "metadata": {
        "id": "U2hdKykX0Gg6"
      },
      "source": [
        "# Read image"
      ]
    },
    {
      "cell_type": "code",
      "execution_count": 3,
      "metadata": {
        "colab": {
          "base_uri": "https://localhost:8080/"
        },
        "id": "bChmqPFmL_K3",
        "outputId": "939f0688-6bc2-43d2-b793-3ac3dddb60a5"
      },
      "outputs": [
        {
          "output_type": "stream",
          "name": "stdout",
          "text": [
            "Mounted at /content/drive\n"
          ]
        }
      ],
      "source": [
        "import os\n",
        "from google.colab import drive\n",
        "drive.mount('/content/drive')\n",
        "\n",
        "image_path = \"/content/drive/My Drive/DataSet/OLSFED/\"   #2813 487 899"
      ]
    },
    {
      "cell_type": "markdown",
      "metadata": {
        "id": "fGog0i7YNIV6"
      },
      "source": [
        "# calculate mean and std\n"
      ]
    },
    {
      "cell_type": "code",
      "execution_count": 4,
      "metadata": {
        "id": "twSTuHDXdiMB"
      },
      "outputs": [],
      "source": [
        "# def getStat(train_data):\n",
        "#     '''\n",
        "#     Compute mean and variance for training data\n",
        "#     :param train_data: 自定义类Dataset(或ImageFolder即可)\n",
        "#     :return: (mean, std)\n",
        "#     '''\n",
        "#     print('Compute mean and variance for training data.')\n",
        "#     print(len(train_data))\n",
        "#     train_loader = torch.utils.data.DataLoader(\n",
        "#         train_data, batch_size=1, shuffle=False, num_workers=0,\n",
        "#         pin_memory=True)\n",
        "#     mean = torch.zeros(3)\n",
        "#     std = torch.zeros(3)\n",
        "#     for X, _ in train_loader:\n",
        "#         for d in range(3):\n",
        "#             mean[d] += X[:, d, :, :].mean()\n",
        "#             std[d] += X[:, d, :, :].std()\n",
        "#     mean.div_(len(train_data))\n",
        "#     std.div_(len(train_data))\n",
        "#     return list(mean.numpy()), list(std.numpy())"
      ]
    },
    {
      "cell_type": "code",
      "execution_count": 5,
      "metadata": {
        "id": "fxBsOnMAedd5"
      },
      "outputs": [],
      "source": [
        "#train_dataset = datasets.ImageFolder(root=image_path + \"train\",transform=transforms.ToTensor())\n",
        "#print(getStat(train_dataset))#([0.6008751, 0.5929872, 0.5754039], [0.2608221, 0.27570045, 0.27727532])"
      ]
    },
    {
      "cell_type": "code",
      "execution_count": 6,
      "metadata": {
        "id": "rU0m57rTi3Ad"
      },
      "outputs": [],
      "source": [
        "#valid_dataset = datasets.ImageFolder(root=image_path + \"valid\",transform=transforms.ToTensor())\n",
        "#print(getStat(valid_dataset)) #[0.6006296, 0.59292805, 0.57553303], [0.26102078, 0.2756743, 0.27714193]\n",
        "#test_dataset = datasets.ImageFolder(root=image_path + \"test\",transform=transforms.ToTensor())\n",
        "#print(getStat(test_dataset)) #[0.60033476, 0.59253544, 0.575138], [0.26081982, 0.27557337, 0.27721775]"
      ]
    },
    {
      "cell_type": "markdown",
      "metadata": {
        "id": "eptg7hJLyNY-"
      },
      "source": [
        "# Train and valid dataloader"
      ]
    },
    {
      "cell_type": "code",
      "execution_count": 7,
      "metadata": {
        "colab": {
          "base_uri": "https://localhost:8080/"
        },
        "id": "Hj5H3KBpgip4",
        "outputId": "40e94ccb-2c2f-48c4-afbb-4ed40d5d40ff"
      },
      "outputs": [
        {
          "output_type": "stream",
          "name": "stdout",
          "text": [
            "15558 9342\n"
          ]
        }
      ],
      "source": [
        "# set hyperparameters\n",
        "BATCH_SIZE = 32\n",
        "# set train set\n",
        "data_transform = {\n",
        "  \"train\": transforms.Compose([transforms.CenterCrop(256),\n",
        "                               transforms.RandomHorizontalFlip(),\n",
        "                               transforms.ColorJitter(brightness=0.5, contrast=0.5),\n",
        "                               transforms.ToTensor(),\n",
        "                               transforms.Normalize([0.6009, 0.5930, 0.5754], [0.2608, 0.2757, 0.2773])\n",
        "                  ]),\n",
        "  \"val\": transforms.Compose([transforms.CenterCrop(256),\n",
        "                             transforms.ToTensor(),\n",
        "                             transforms.Normalize([0.6009, 0.5930, 0.5754], [0.2608, 0.2757, 0.2773])\n",
        "            ])}\n",
        "\n",
        "\n",
        "train_dataset = datasets.ImageFolder(root=image_path + \"train\",transform=data_transform[\"train\"])\n",
        "train_loader = torch.utils.data.DataLoader(dataset=train_dataset, batch_size=BATCH_SIZE, shuffle=True)  # load trian data\n",
        "\n",
        "valid_dataset = datasets.ImageFolder(root=image_path + \"test\",transform=data_transform[\"val\"])\n",
        "valid_loader = torch.utils.data.DataLoader(dataset=valid_dataset, batch_size=BATCH_SIZE, shuffle=False)  # load valid data\n",
        "\n",
        "# pritn set size\n",
        "train_data_size = len(train_dataset)\n",
        "valid_data_size = len(valid_dataset)\n",
        "\n",
        "print(train_data_size,valid_data_size)"
      ]
    },
    {
      "cell_type": "markdown",
      "metadata": {
        "id": "N0U94OYN0MBb"
      },
      "source": [
        "# Train"
      ]
    },
    {
      "cell_type": "code",
      "execution_count": 9,
      "metadata": {
        "id": "TFcCEYbhjt8I"
      },
      "outputs": [],
      "source": [
        "#net = ResNet34().to(\"cuda\") \n",
        "net = models.resnet101().to('cuda')\n",
        "loss_function = nn.CrossEntropyLoss() \n",
        "optimizer = optim.Adam(net.parameters(), lr=0.005)\n",
        "#scheduler = torch.optim.lr_scheduler.StepLR(optimizer, step_size=30, gamma=0.1)\n",
        "num_epochs=8"
      ]
    },
    {
      "cell_type": "code",
      "execution_count": 10,
      "metadata": {
        "colab": {
          "base_uri": "https://localhost:8080/"
        },
        "id": "9o5yIIrXjysa",
        "outputId": "ad12b8fb-c1b9-4fc4-fd94-04d987a2f444"
      },
      "outputs": [
        {
          "output_type": "stream",
          "name": "stdout",
          "text": [
            "Epoch: 1/8\n",
            "Epoch: 001, Training: Loss: 59.8108, Accuracy: 99.7943%, \n",
            "\t\tValidation: Loss: 59.8108, Accuracy: 18.5185%, Time: 5.2060h\n",
            "Best Accuracy for validation : 0.1852 at epoch 001\n",
            "Epoch: 2/8\n",
            "Epoch: 002, Training: Loss: 63.5099, Accuracy: 100.0000%, \n",
            "\t\tValidation: Loss: 63.5099, Accuracy: 18.5185%, Time: 0.1501h\n",
            "Best Accuracy for validation : 0.1852 at epoch 001\n",
            "Epoch: 3/8\n",
            "Epoch: 003, Training: Loss: 64.7287, Accuracy: 100.0000%, \n",
            "\t\tValidation: Loss: 64.7287, Accuracy: 18.5185%, Time: 0.1503h\n",
            "Best Accuracy for validation : 0.1852 at epoch 001\n",
            "Epoch: 4/8\n",
            "Epoch: 004, Training: Loss: 62.6694, Accuracy: 100.0000%, \n",
            "\t\tValidation: Loss: 62.6694, Accuracy: 18.5185%, Time: 0.1501h\n",
            "Best Accuracy for validation : 0.1852 at epoch 001\n",
            "Epoch: 5/8\n",
            "Epoch: 005, Training: Loss: 67.0080, Accuracy: 100.0000%, \n",
            "\t\tValidation: Loss: 67.0080, Accuracy: 18.5185%, Time: 0.1498h\n",
            "Best Accuracy for validation : 0.1852 at epoch 001\n",
            "Epoch: 6/8\n",
            "Epoch: 006, Training: Loss: 65.9975, Accuracy: 100.0000%, \n",
            "\t\tValidation: Loss: 65.9975, Accuracy: 18.5185%, Time: 0.1497h\n",
            "Best Accuracy for validation : 0.1852 at epoch 001\n",
            "Epoch: 7/8\n",
            "Epoch: 007, Training: Loss: 65.6128, Accuracy: 100.0000%, \n",
            "\t\tValidation: Loss: 65.6128, Accuracy: 18.5185%, Time: 0.1501h\n",
            "Best Accuracy for validation : 0.1852 at epoch 001\n",
            "Epoch: 8/8\n",
            "Epoch: 008, Training: Loss: 65.8433, Accuracy: 100.0000%, \n",
            "\t\tValidation: Loss: 65.8433, Accuracy: 18.5185%, Time: 0.1502h\n",
            "Best Accuracy for validation : 0.1852 at epoch 001\n",
            "Cost: 6.256731343666712\n"
          ]
        }
      ],
      "source": [
        "start_time = time.time()\n",
        "# strat training\n",
        "history = train_and_valid(net, loss_function, optimizer, num_epochs)\n",
        "PATH='/content/drive/My Drive/DataSet/trained model/resnet101_parameter.pkl'\n",
        "torch.save(net.state_dict(),PATH)\n",
        "print('Cost:',(time.time()-start_time)/3600)"
      ]
    },
    {
      "cell_type": "code",
      "source": [
        "history\n"
      ],
      "metadata": {
        "colab": {
          "base_uri": "https://localhost:8080/"
        },
        "id": "Wzfoi1nz99vc",
        "outputId": "53555814-67a9-4e0d-d162-29eb824673f8"
      },
      "execution_count": 16,
      "outputs": [
        {
          "output_type": "execute_result",
          "data": {
            "text/plain": [
              "[[0.017101243622950506,\n",
              "  59.81078074836445,\n",
              "  0.9979431803573724,\n",
              "  0.18518518518518517],\n",
              " [0.0, 63.50986775043204, 1.0, 0.18518518518518517],\n",
              " [0.0, 64.72870744767675, 1.0, 0.18518518518518517],\n",
              " [0.0, 62.66937098240756, 1.0, 0.18518518518518517],\n",
              " [0.0, 67.00801527431246, 1.0, 0.18518518518518517],\n",
              " [0.0, 65.99754254931787, 1.0, 0.18518518518518517],\n",
              " [0.0, 65.61278804582234, 1.0, 0.18518518518518517],\n",
              " [0.0, 65.84329365407902, 1.0, 0.18518518518518517]]"
            ]
          },
          "metadata": {},
          "execution_count": 16
        }
      ]
    },
    {
      "cell_type": "markdown",
      "metadata": {
        "id": "DTd_jUo-rQf4"
      },
      "source": [
        "# Plot accuracy and loss"
      ]
    },
    {
      "cell_type": "code",
      "execution_count": 11,
      "metadata": {
        "id": "Agv6sjsGrPVc"
      },
      "outputs": [],
      "source": [
        "def plot_acc_loss(history):\n",
        "  # plot loss and accuracy figure\n",
        "  history = np.array(history)\n",
        "  plt.plot(history[:, 0:2])\n",
        "  plt.legend(['Train Loss', 'Val Loss'])\n",
        "  plt.xlabel('Epoch Number')\n",
        "  plt.ylabel('Loss')\n",
        "  #plt.ylim(0, 1.1)\n",
        "  plt.savefig('loss_curve.png')\n",
        "  plt.show()\n",
        "\n",
        "  plt.plot(history[:, 2:4])\n",
        "  plt.legend(['Train Accuracy', 'Val Accuracy'])\n",
        "  plt.xlabel('Epoch Number')\n",
        "  plt.ylabel('Accuracy')\n",
        "  #plt.ylim(0, 1.1)\n",
        "  plt.savefig('accuracy_curve.png')\n",
        "  plt.show()"
      ]
    },
    {
      "cell_type": "markdown",
      "metadata": {
        "id": "dTNVThD_Lam7"
      },
      "source": [
        "# Plot ResNet accuracy and loss"
      ]
    },
    {
      "cell_type": "code",
      "execution_count": 12,
      "metadata": {
        "id": "UhoSVc1yrans",
        "colab": {
          "base_uri": "https://localhost:8080/",
          "height": 544
        },
        "outputId": "89b3a7d7-7f34-4427-b004-df901695df50"
      },
      "outputs": [
        {
          "output_type": "display_data",
          "data": {
            "text/plain": [
              "<Figure size 432x288 with 1 Axes>"
            ],
            "image/png": "[encoded data removed]"
          },
          "metadata": {
            "needs_background": "light"
          }
        },
        {
          "output_type": "display_data",
          "data": {
            "text/plain": [
              "<Figure size 432x288 with 1 Axes>"
            ],
            "image/png": "[encoded data removed]"
          },
          "metadata": {
            "needs_background": "light"
          }
        }
      ],
      "source": [
        "plot_acc_loss(history)"
      ]
    },
    {
      "cell_type": "markdown",
      "metadata": {
        "id": "CoohkCXpunVQ"
      },
      "source": [
        "# Test"
      ]
    },
    {
      "cell_type": "code",
      "execution_count": null,
      "metadata": {
        "id": "8hIkRA6IYw4x"
      },
      "outputs": [],
      "source": [
        "test_transform = transforms.Compose([\n",
        "        transforms.Resize((256, 256)),  # resize到224x224大小\n",
        "        transforms.ToTensor(),  \n",
        "        transforms.Normalize(mean=[0.6003, 0.5925, 0.5751], std=[0.2608, 0.2756, 0.2772]) \n",
        "    ])\n",
        "test_dataset = datasets.ImageFolder(root=image_path + \"test\",transform=test_transform)\n",
        "test_loader = torch.utils.data.DataLoader(dataset=test_dataset, batch_size=BATCH_SIZE, shuffle=True,num_workers=2)  # load test data\n",
        "test_data_size = len(test_dataset)\n",
        "print(test_data_size)"
      ]
    },
    {
      "cell_type": "code",
      "execution_count": null,
      "metadata": {
        "id": "JSYcMvx6hDzt"
      },
      "outputs": [],
      "source": [
        "device = torch.device(\"cuda:0\" if torch.cuda.is_available() else \"cpu\")\n",
        "for j, (inputs, labels) in enumerate(test_loader):\n",
        "  inputs = inputs.to(device)\n",
        "  labels = labels.to(device)\n",
        "\n",
        "  outputs = model(inputs)\n",
        "\n",
        "  loss = loss_function(outputs, labels)\n",
        "\n",
        "  test_loss += loss.item() * inputs.size(0)\n",
        "\n",
        "  ret, predictions = torch.max(outputs.data, 1)\n",
        "  correct_counts = predictions.eq(labels.data.view_as(predictions))\n",
        "\n",
        "  acc = torch.mean(correct_counts.type(torch.FloatTensor))\n",
        "\n",
        "  test_acc += acc.item() * inputs.size(0)\n",
        "\n",
        "avg_test_loss = test_loss / test_data_size\n",
        "avg_test_acc = test_acc / test_data_size\n",
        "\n",
        "print(\"Test: Loss: {:.4f}, Accuracy: {:.4f}%\".format(avg_test_loss,avg_test_acc * 100))"
      ]
    },
    {
      "cell_type": "markdown",
      "metadata": {
        "id": "4xGIDrDZ4xUe"
      },
      "source": [
        "# Pre train model"
      ]
    },
    {
      "cell_type": "code",
      "execution_count": null,
      "metadata": {
        "id": "BLQB53mUp53W"
      },
      "outputs": [],
      "source": [
        "pretrained_resnet101 = models.resnet101(pretrained=False)\n",
        "PATH= '/content/drive/My Drive/DataSet/trained model/fer2013_resnet101_parameter.pkl'\n",
        "pretrained_resnet101.load_state_dict(torch.load(PATH))\n",
        "inchannel = pretrained_resnet101.fc.in_features\n",
        "pretrained_resnet101.fc = nn.Linear(inchannel, 5)\n",
        "pretrained_resnet101.to('cuda')"
      ]
    },
    {
      "cell_type": "code",
      "execution_count": 22,
      "metadata": {
        "id": "myLXsKFMYGtT"
      },
      "outputs": [],
      "source": [
        "loss_function = nn.CrossEntropyLoss() \n",
        "optimizer = optim.Adam(pretrained_resnet101.parameters(), lr=0.01)\n",
        "num_epochs = 8"
      ]
    },
    {
      "cell_type": "code",
      "execution_count": null,
      "metadata": {
        "id": "3tzx47AIooWy",
        "colab": {
          "base_uri": "https://localhost:8080/"
        },
        "outputId": "1945a970-330d-48a3-c1bc-1f62a1480cdb"
      },
      "outputs": [
        {
          "output_type": "stream",
          "name": "stdout",
          "text": [
            "Epoch: 1/8\n",
            "Epoch: 001, Training: Loss: 1198680.9075, Accuracy: 99.9550%, \n",
            "\t\tValidation: Loss: 1198680.9075, Accuracy: 18.5185%, Time: 0.1489h\n",
            "Best Accuracy for validation : 0.1852 at epoch 001\n",
            "Epoch: 2/8\n",
            "Epoch: 002, Training: Loss: 1247172.6034, Accuracy: 100.0000%, \n",
            "\t\tValidation: Loss: 1247172.6034, Accuracy: 18.5185%, Time: 0.1488h\n",
            "Best Accuracy for validation : 0.1852 at epoch 001\n",
            "Epoch: 3/8\n",
            "Epoch: 003, Training: Loss: 1206070.9761, Accuracy: 100.0000%, \n",
            "\t\tValidation: Loss: 1206070.9761, Accuracy: 18.5185%, Time: 0.1488h\n",
            "Best Accuracy for validation : 0.1852 at epoch 001\n",
            "Epoch: 4/8\n",
            "Epoch: 004, Training: Loss: 1219338.0028, Accuracy: 100.0000%, \n",
            "\t\tValidation: Loss: 1219338.0028, Accuracy: 18.5185%, Time: 0.1489h\n",
            "Best Accuracy for validation : 0.1852 at epoch 001\n",
            "Epoch: 5/8\n",
            "Epoch: 005, Training: Loss: 1237071.2604, Accuracy: 100.0000%, \n",
            "\t\tValidation: Loss: 1237071.2604, Accuracy: 18.5185%, Time: 0.1487h\n",
            "Best Accuracy for validation : 0.1852 at epoch 001\n",
            "Epoch: 6/8\n",
            "Epoch: 006, Training: Loss: 1263255.3704, Accuracy: 100.0000%, \n",
            "\t\tValidation: Loss: 1263255.3704, Accuracy: 18.5185%, Time: 0.1493h\n",
            "Best Accuracy for validation : 0.1852 at epoch 001\n",
            "Epoch: 7/8\n"
          ]
        }
      ],
      "source": [
        "start_time = time.time()\n",
        "\n",
        "# strat training\n",
        "history_pretrained_resnet101 = train_and_valid(pretrained_resnet101, loss_function, optimizer, num_epochs)\n",
        "PATH='/content/drive/My Drive/DataSet/trained model/pretrained_resnet101_parameter.pkl'\n",
        "torch.save(net.state_dict(),PATH)\n",
        "print('Cost:',(time.time()-start_time)/3600)"
      ]
    },
    {
      "cell_type": "code",
      "execution_count": null,
      "metadata": {
        "id": "EHYbGTNIpPbe"
      },
      "outputs": [],
      "source": [
        "plot_acc_loss(history_pretrained_resnet34)"
      ]
    }
  ],
  "metadata": {
    "accelerator": "GPU",
    "colab": {
      "collapsed_sections": [
        "fGog0i7YNIV6",
        "DTd_jUo-rQf4",
        "CoohkCXpunVQ"
      ],
      "machine_shape": "hm",
      "name": "thesis.ipynb",
      "provenance": [],
      "include_colab_link": true
    },
    "kernelspec": {
      "display_name": "Python 3",
      "name": "python3"
    },
    "language_info": {
      "name": "python"
    }
  },
  "nbformat": 4,
  "nbformat_minor": 0
}